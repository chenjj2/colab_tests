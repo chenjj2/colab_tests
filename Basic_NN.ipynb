{
  "nbformat": 4,
  "nbformat_minor": 0,
  "metadata": {
    "colab": {
      "name": "Basic_NN.ipynb",
      "version": "0.3.2",
      "provenance": [],
      "collapsed_sections": [],
      "include_colab_link": true
    },
    "kernelspec": {
      "name": "python3",
      "display_name": "Python 3"
    }
  },
  "cells": [
    {
      "cell_type": "markdown",
      "metadata": {
        "id": "view-in-github",
        "colab_type": "text"
      },
      "source": [
        "<a href=\"https://colab.research.google.com/github/chenjj2/colab_tests/blob/master/Basic_NN.ipynb\" target=\"_parent\"><img src=\"https://colab.research.google.com/assets/colab-badge.svg\" alt=\"Open In Colab\"/></a>"
      ]
    },
    {
      "metadata": {
        "id": "v0Xiw7jhvo27",
        "colab_type": "code",
        "outputId": "14a43728-5f94-43c8-94af-697b58a3dfb4",
        "colab": {
          "base_uri": "https://localhost:8080/",
          "height": 378
        }
      },
      "cell_type": "code",
      "source": [
        "!pip3 install torch torchvision"
      ],
      "execution_count": 0,
      "outputs": [
        {
          "output_type": "stream",
          "text": [
            "Requirement already satisfied: torch in /usr/local/lib/python3.6/dist-packages (1.0.1.post2)\n",
            "Requirement already satisfied: torchvision in /usr/local/lib/python3.6/dist-packages (0.2.2.post2)\n",
            "Requirement already satisfied: six in /usr/local/lib/python3.6/dist-packages (from torchvision) (1.11.0)\n",
            "Requirement already satisfied: numpy in /usr/local/lib/python3.6/dist-packages (from torchvision) (1.14.6)\n",
            "Collecting pillow>=4.1.1 (from torchvision)\n",
            "\u001b[?25l  Downloading https://files.pythonhosted.org/packages/85/5e/e91792f198bbc5a0d7d3055ad552bc4062942d27eaf75c3e2783cf64eae5/Pillow-5.4.1-cp36-cp36m-manylinux1_x86_64.whl (2.0MB)\n",
            "\u001b[K    100% |████████████████████████████████| 2.0MB 8.1MB/s \n",
            "\u001b[31mimgaug 0.2.8 has requirement numpy>=1.15.0, but you'll have numpy 1.14.6 which is incompatible.\u001b[0m\n",
            "\u001b[31mfastai 1.0.46 has requirement numpy>=1.15, but you'll have numpy 1.14.6 which is incompatible.\u001b[0m\n",
            "\u001b[31malbumentations 0.1.12 has requirement imgaug<0.2.7,>=0.2.5, but you'll have imgaug 0.2.8 which is incompatible.\u001b[0m\n",
            "\u001b[?25hInstalling collected packages: pillow\n",
            "  Found existing installation: Pillow 4.0.0\n",
            "    Uninstalling Pillow-4.0.0:\n",
            "      Successfully uninstalled Pillow-4.0.0\n",
            "Successfully installed pillow-5.4.1\n"
          ],
          "name": "stdout"
        },
        {
          "output_type": "display_data",
          "data": {
            "application/vnd.colab-display-data+json": {
              "pip_warning": {
                "packages": [
                  "PIL"
                ]
              }
            }
          },
          "metadata": {
            "tags": []
          }
        }
      ]
    },
    {
      "metadata": {
        "id": "1k9amMVhvsre",
        "colab_type": "code",
        "colab": {}
      },
      "cell_type": "code",
      "source": [
        "import torch\n",
        "import torch.nn as nn"
      ],
      "execution_count": 0,
      "outputs": []
    },
    {
      "metadata": {
        "id": "hwKdEV4kv_eO",
        "colab_type": "code",
        "colab": {}
      },
      "cell_type": "code",
      "source": [
        "X = torch.tensor(([2,9],[1,5],[3,6]), dtype=torch.float)\n",
        "y = torch.tensor(([92],[100],[89]), dtype=torch.float)\n",
        "xPredicted = torch.tensor([4,8], dtype=torch.float)"
      ],
      "execution_count": 0,
      "outputs": []
    },
    {
      "metadata": {
        "id": "9yuTdcVxweTg",
        "colab_type": "code",
        "outputId": "d3f2f89c-683c-4e77-dbc7-126bf64cd090",
        "colab": {
          "base_uri": "https://localhost:8080/",
          "height": 34
        }
      },
      "cell_type": "code",
      "source": [
        "print(X.size())"
      ],
      "execution_count": 0,
      "outputs": [
        {
          "output_type": "stream",
          "text": [
            "torch.Size([3, 2])\n"
          ],
          "name": "stdout"
        }
      ]
    },
    {
      "metadata": {
        "id": "88oPPJH7wliH",
        "colab_type": "code",
        "outputId": "42b561b4-3600-4cb0-de5b-34d439c52c22",
        "colab": {
          "base_uri": "https://localhost:8080/",
          "height": 34
        }
      },
      "cell_type": "code",
      "source": [
        "X_max, _ = torch.max(X,0)\n",
        "print(X_max)"
      ],
      "execution_count": 0,
      "outputs": [
        {
          "output_type": "stream",
          "text": [
            "tensor([3., 9.])\n"
          ],
          "name": "stdout"
        }
      ]
    },
    {
      "metadata": {
        "id": "J3JLbrVewsjK",
        "colab_type": "code",
        "outputId": "8b27fc6c-5e47-4628-dc61-3650f8012617",
        "colab": {
          "base_uri": "https://localhost:8080/",
          "height": 68
        }
      },
      "cell_type": "code",
      "source": [
        "X = torch.div(X, X_max)\n",
        "print(X)"
      ],
      "execution_count": 0,
      "outputs": [
        {
          "output_type": "stream",
          "text": [
            "tensor([[0.6667, 1.0000],\n",
            "        [0.3333, 0.5556],\n",
            "        [1.0000, 0.6667]])\n"
          ],
          "name": "stdout"
        }
      ]
    },
    {
      "metadata": {
        "id": "S-jUBljLxVzE",
        "colab_type": "code",
        "outputId": "fb10ae9f-e87d-467a-c943-7264723dfe82",
        "colab": {
          "base_uri": "https://localhost:8080/",
          "height": 85
        }
      },
      "cell_type": "code",
      "source": [
        "xPredicted_max, _ = torch.max(xPredicted, 0)\n",
        "xPredicted = torch.div(xPredicted, xPredicted_max)\n",
        "y = y/100\n",
        "\n",
        "print(xPredicted)\n",
        "print(y)"
      ],
      "execution_count": 0,
      "outputs": [
        {
          "output_type": "stream",
          "text": [
            "tensor([0.5000, 1.0000])\n",
            "tensor([[0.9200],\n",
            "        [1.0000],\n",
            "        [0.8900]])\n"
          ],
          "name": "stdout"
        }
      ]
    },
    {
      "metadata": {
        "id": "oK8mghRZxhU5",
        "colab_type": "code",
        "colab": {}
      },
      "cell_type": "code",
      "source": [
        "class Neural_Network(nn.Module):\n",
        "  def __init__(self,):\n",
        "    super(Neural_Network, self).__init__()\n",
        "    self.inputSize = 2\n",
        "    self.outputSize = 1\n",
        "    self.hiddenSize = 3\n",
        "    \n",
        "    self.W1 = torch.randn(self.inputSize, self.hiddenSize)\n",
        "    self.W2 = torch.randn(self.hiddenSize, self.outputSize)\n",
        "    \n",
        "  def forward(self, X):\n",
        "    self.z = torch.matmul(X, self.W1)\n",
        "    # self.sigmoid(defined below), not torch.sigmoid\n",
        "    self.z2 = self.sigmoid(self.z) \n",
        "    self.z3 = torch.matmul(self.z2, self.W2)\n",
        "    o = self.sigmoid(self.z3)\n",
        "    return o\n",
        "  \n",
        "  def sigmoid(self, s):\n",
        "    return 1 / (1 + torch.exp(-s))\n",
        "  \n",
        "  def sigmoidPrime(self, s):\n",
        "    # derivative of sigmoid\n",
        "    return s*(1-s)\n",
        "  \n",
        "  def backward(self, X, y, o):\n",
        "    self.o_error = y-o\n",
        "    self.o_delta = self.o_error * self.sigmoidPrime(o)\n",
        "    self.z2_error = torch.matmul(self.o_delta, torch.t(self.W2))\n",
        "    self.z2_delta = self.z2_error * self.sigmoidPrime(self.z2)\n",
        "    self.W1 += torch.matmul(torch.t(X), self.z2_delta)\n",
        "    self.W2 += torch.matmul(torch.t(self.z2), self.o_delta)\n",
        "    # no return value, because W1/W2 are updated already\n",
        "    \n",
        "  def train(self, X, y):\n",
        "    o = self.forward(X)\n",
        "    self.backward(X, y, o)\n",
        "    \n",
        "  def saveWeights(self, model):\n",
        "    torch.save(model, 'NN')\n",
        "    # model can be reload with\n",
        "    # torch.load('NN')\n",
        "    \n",
        "  def predict(self, xPredicted):\n",
        "    # simply do forward again, based on tuned W1/W2\n",
        "    print (self.forward(xPredicted))"
      ],
      "execution_count": 0,
      "outputs": []
    },
    {
      "metadata": {
        "id": "iG_FwObnyRp0",
        "colab_type": "code",
        "colab": {}
      },
      "cell_type": "code",
      "source": [
        "NN = Neural_Network()\n",
        "losses = []\n",
        "for i in range(1000): # train 100 times\n",
        "  loss = torch.mean((y-NN(X))**2).detach().item()\n",
        "  losses.append(loss)\n",
        "  #print (str(i)+' Loss: '+str(loss))\n",
        "  NN.train(X,y)"
      ],
      "execution_count": 0,
      "outputs": []
    },
    {
      "metadata": {
        "id": "kii-Ox-x4ACJ",
        "colab_type": "code",
        "outputId": "2c0d8109-f93e-459d-ad05-eb39a94f8d63",
        "colab": {
          "base_uri": "https://localhost:8080/",
          "height": 364
        }
      },
      "cell_type": "code",
      "source": [
        "import matplotlib.pyplot as plt\n",
        "plt.plot(losses)"
      ],
      "execution_count": 0,
      "outputs": [
        {
          "output_type": "execute_result",
          "data": {
            "text/plain": [
              "[<matplotlib.lines.Line2D at 0x7fc73b433a90>]"
            ]
          },
          "metadata": {
            "tags": []
          },
          "execution_count": 46
        },
        {
          "output_type": "display_data",
          "data": {
            "image/png": "[encoded data removed]",
            "text/plain": [
              "<Figure size 576x396 with 1 Axes>"
            ]
          },
          "metadata": {
            "tags": []
          }
        }
      ]
    },
    {
      "metadata": {
        "id": "tijK2UxW48_W",
        "colab_type": "code",
        "outputId": "11ed4d77-a06a-4719-e548-8f2ec804e85e",
        "colab": {
          "base_uri": "https://localhost:8080/",
          "height": 170
        }
      },
      "cell_type": "code",
      "source": [
        "print(X)\n",
        "print(y)\n",
        "NN.predict(X)"
      ],
      "execution_count": 0,
      "outputs": [
        {
          "output_type": "stream",
          "text": [
            "tensor([[0.6667, 1.0000],\n",
            "        [0.3333, 0.5556],\n",
            "        [1.0000, 0.6667]])\n",
            "tensor([[0.9200],\n",
            "        [1.0000],\n",
            "        [0.8900]])\n",
            "tensor([[0.9394],\n",
            "        [0.9299],\n",
            "        [0.9282]])\n"
          ],
          "name": "stdout"
        }
      ]
    },
    {
      "metadata": {
        "id": "FaBTTPSF7CtT",
        "colab_type": "code",
        "outputId": "2e15d794-3d86-4cac-fe02-04194639e935",
        "colab": {
          "base_uri": "https://localhost:8080/",
          "height": 51
        }
      },
      "cell_type": "code",
      "source": [
        "print(xPredicted)\n",
        "NN.predict(xPredicted)"
      ],
      "execution_count": 0,
      "outputs": [
        {
          "output_type": "stream",
          "text": [
            "tensor([0.5000, 1.0000])\n",
            "tensor([0.9407])\n"
          ],
          "name": "stdout"
        }
      ]
    },
    {
      "metadata": {
        "id": "7zOooVbN5Ak4",
        "colab_type": "code",
        "colab": {}
      },
      "cell_type": "code",
      "source": [
        ""
      ],
      "execution_count": 0,
      "outputs": []
    }
  ]
}